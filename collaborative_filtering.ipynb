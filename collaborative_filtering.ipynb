{
 "cells": [
  {
   "cell_type": "code",
   "execution_count": 5,
   "id": "de4d6137",
   "metadata": {},
   "outputs": [
    {
     "name": "stdout",
     "output_type": "stream",
     "text": [
      "Requirement already satisfied: pandas in .\\venv\\lib\\site-packages (2.3.1)\n",
      "Requirement already satisfied: python-dateutil>=2.8.2 in .\\venv\\lib\\site-packages (from pandas) (2.9.0.post0)\n",
      "Requirement already satisfied: numpy>=1.22.4 in .\\venv\\lib\\site-packages (from pandas) (1.24.4)\n",
      "Requirement already satisfied: pytz>=2020.1 in .\\venv\\lib\\site-packages (from pandas) (2025.2)\n",
      "Requirement already satisfied: tzdata>=2022.7 in .\\venv\\lib\\site-packages (from pandas) (2025.2)\n",
      "Requirement already satisfied: six>=1.5 in .\\venv\\lib\\site-packages (from python-dateutil>=2.8.2->pandas) (1.17.0)\n",
      "Note: you may need to restart the kernel to use updated packages.\n"
     ]
    },
    {
     "name": "stderr",
     "output_type": "stream",
     "text": [
      "\n",
      "[notice] A new release of pip available: 22.3.1 -> 25.2\n",
      "[notice] To update, run: python.exe -m pip install --upgrade pip\n"
     ]
    }
   ],
   "source": [
    "%pip install pandas \n",
    "import pandas as pd \n",
    "import numpy as np"
   ]
  },
  {
   "cell_type": "code",
   "execution_count": 6,
   "id": "d238a7c8",
   "metadata": {},
   "outputs": [],
   "source": [
    "column_names = ['user_id','product_id','rating','timestamp']\n",
    "df = pd.read_csv(r\"E:\\e-commerce-recommendation-system\\ratings_Electronics.csv\",names=column_names,nrows=200000)"
   ]
  },
  {
   "cell_type": "code",
   "execution_count": 7,
   "id": "1c41d937",
   "metadata": {},
   "outputs": [
    {
     "name": "stdout",
     "output_type": "stream",
     "text": [
      "shape of dataset:  (200000, 4)\n",
      "first few rows: \n"
     ]
    },
    {
     "data": {
      "text/html": [
       "<div>\n",
       "<style scoped>\n",
       "    .dataframe tbody tr th:only-of-type {\n",
       "        vertical-align: middle;\n",
       "    }\n",
       "\n",
       "    .dataframe tbody tr th {\n",
       "        vertical-align: top;\n",
       "    }\n",
       "\n",
       "    .dataframe thead th {\n",
       "        text-align: right;\n",
       "    }\n",
       "</style>\n",
       "<table border=\"1\" class=\"dataframe\">\n",
       "  <thead>\n",
       "    <tr style=\"text-align: right;\">\n",
       "      <th></th>\n",
       "      <th>user_id</th>\n",
       "      <th>product_id</th>\n",
       "      <th>rating</th>\n",
       "      <th>timestamp</th>\n",
       "    </tr>\n",
       "  </thead>\n",
       "  <tbody>\n",
       "    <tr>\n",
       "      <th>0</th>\n",
       "      <td>AKM1MP6P0OYPR</td>\n",
       "      <td>0132793040</td>\n",
       "      <td>5.0</td>\n",
       "      <td>1365811200</td>\n",
       "    </tr>\n",
       "    <tr>\n",
       "      <th>1</th>\n",
       "      <td>A2CX7LUOHB2NDG</td>\n",
       "      <td>0321732944</td>\n",
       "      <td>5.0</td>\n",
       "      <td>1341100800</td>\n",
       "    </tr>\n",
       "    <tr>\n",
       "      <th>2</th>\n",
       "      <td>A2NWSAGRHCP8N5</td>\n",
       "      <td>0439886341</td>\n",
       "      <td>1.0</td>\n",
       "      <td>1367193600</td>\n",
       "    </tr>\n",
       "    <tr>\n",
       "      <th>3</th>\n",
       "      <td>A2WNBOD3WNDNKT</td>\n",
       "      <td>0439886341</td>\n",
       "      <td>3.0</td>\n",
       "      <td>1374451200</td>\n",
       "    </tr>\n",
       "    <tr>\n",
       "      <th>4</th>\n",
       "      <td>A1GI0U4ZRJA8WN</td>\n",
       "      <td>0439886341</td>\n",
       "      <td>1.0</td>\n",
       "      <td>1334707200</td>\n",
       "    </tr>\n",
       "  </tbody>\n",
       "</table>\n",
       "</div>"
      ],
      "text/plain": [
       "          user_id  product_id  rating   timestamp\n",
       "0   AKM1MP6P0OYPR  0132793040     5.0  1365811200\n",
       "1  A2CX7LUOHB2NDG  0321732944     5.0  1341100800\n",
       "2  A2NWSAGRHCP8N5  0439886341     1.0  1367193600\n",
       "3  A2WNBOD3WNDNKT  0439886341     3.0  1374451200\n",
       "4  A1GI0U4ZRJA8WN  0439886341     1.0  1334707200"
      ]
     },
     "execution_count": 7,
     "metadata": {},
     "output_type": "execute_result"
    }
   ],
   "source": [
    "print(\"shape of dataset: \",df.shape)\n",
    "print(\"first few rows: \")\n",
    "df.head()"
   ]
  },
  {
   "cell_type": "code",
   "execution_count": 8,
   "id": "d9c7a545",
   "metadata": {},
   "outputs": [
    {
     "data": {
      "text/plain": [
       "user_id       0\n",
       "product_id    0\n",
       "rating        0\n",
       "timestamp     0\n",
       "dtype: int64"
      ]
     },
     "execution_count": 8,
     "metadata": {},
     "output_type": "execute_result"
    }
   ],
   "source": [
    "# checking the missing values \n",
    "\n",
    "df.isnull().sum()"
   ]
  },
  {
   "cell_type": "code",
   "execution_count": 9,
   "id": "bc065da8",
   "metadata": {},
   "outputs": [
    {
     "name": "stdout",
     "output_type": "stream",
     "text": [
      "0\n"
     ]
    }
   ],
   "source": [
    "# checking for duplicate values \n",
    "\n",
    "print(df.duplicated().sum())"
   ]
  },
  {
   "cell_type": "code",
   "execution_count": 10,
   "id": "4c7d9ba2",
   "metadata": {},
   "outputs": [
    {
     "name": "stdout",
     "output_type": "stream",
     "text": [
      "unique users : 173349\n",
      "unique products : 13131\n"
     ]
    }
   ],
   "source": [
    "# counting the unique users \n",
    "\n",
    "print(\"unique users :\",df['user_id'].nunique())\n",
    "\n",
    "# unique products \n",
    "\n",
    "print(\"unique products :\",df['product_id'].nunique())\n"
   ]
  },
  {
   "cell_type": "code",
   "execution_count": 11,
   "id": "8352a251",
   "metadata": {},
   "outputs": [
    {
     "name": "stdout",
     "output_type": "stream",
     "text": [
      "Requirement already satisfied: matplotlib in .\\venv\\lib\\site-packages (3.10.3)\n",
      "Requirement already satisfied: contourpy>=1.0.1 in .\\venv\\lib\\site-packages (from matplotlib) (1.3.2)\n",
      "Requirement already satisfied: packaging>=20.0 in .\\venv\\lib\\site-packages (from matplotlib) (25.0)\n",
      "Requirement already satisfied: fonttools>=4.22.0 in .\\venv\\lib\\site-packages (from matplotlib) (4.59.0)\n",
      "Requirement already satisfied: numpy>=1.23 in .\\venv\\lib\\site-packages (from matplotlib) (1.24.4)\n",
      "Requirement already satisfied: pillow>=8 in .\\venv\\lib\\site-packages (from matplotlib) (11.3.0)\n",
      "Requirement already satisfied: kiwisolver>=1.3.1 in .\\venv\\lib\\site-packages (from matplotlib) (1.4.8)\n",
      "Requirement already satisfied: python-dateutil>=2.7 in .\\venv\\lib\\site-packages (from matplotlib) (2.9.0.post0)\n",
      "Requirement already satisfied: pyparsing>=2.3.1 in .\\venv\\lib\\site-packages (from matplotlib) (3.2.3)\n",
      "Requirement already satisfied: cycler>=0.10 in .\\venv\\lib\\site-packages (from matplotlib) (0.12.1)\n",
      "Requirement already satisfied: six>=1.5 in .\\venv\\lib\\site-packages (from python-dateutil>=2.7->matplotlib) (1.17.0)\n",
      "Note: you may need to restart the kernel to use updated packages.\n"
     ]
    },
    {
     "name": "stderr",
     "output_type": "stream",
     "text": [
      "\n",
      "[notice] A new release of pip available: 22.3.1 -> 25.2\n",
      "[notice] To update, run: python.exe -m pip install --upgrade pip\n",
      "\n",
      "[notice] A new release of pip available: 22.3.1 -> 25.2\n",
      "[notice] To update, run: python.exe -m pip install --upgrade pip\n"
     ]
    },
    {
     "name": "stdout",
     "output_type": "stream",
     "text": [
      "Note: you may need to restart the kernel to use updated packages.\n",
      "Requirement already satisfied: seaborn in .\\venv\\lib\\site-packages (0.13.2)\n",
      "Requirement already satisfied: pandas>=1.2 in .\\venv\\lib\\site-packages (from seaborn) (2.3.1)\n",
      "Requirement already satisfied: matplotlib!=3.6.1,>=3.4 in .\\venv\\lib\\site-packages (from seaborn) (3.10.3)\n",
      "Requirement already satisfied: numpy!=1.24.0,>=1.20 in .\\venv\\lib\\site-packages (from seaborn) (1.24.4)\n",
      "Requirement already satisfied: pyparsing>=2.3.1 in .\\venv\\lib\\site-packages (from matplotlib!=3.6.1,>=3.4->seaborn) (3.2.3)\n",
      "Requirement already satisfied: fonttools>=4.22.0 in .\\venv\\lib\\site-packages (from matplotlib!=3.6.1,>=3.4->seaborn) (4.59.0)\n",
      "Requirement already satisfied: kiwisolver>=1.3.1 in .\\venv\\lib\\site-packages (from matplotlib!=3.6.1,>=3.4->seaborn) (1.4.8)\n",
      "Requirement already satisfied: python-dateutil>=2.7 in .\\venv\\lib\\site-packages (from matplotlib!=3.6.1,>=3.4->seaborn) (2.9.0.post0)\n",
      "Requirement already satisfied: packaging>=20.0 in .\\venv\\lib\\site-packages (from matplotlib!=3.6.1,>=3.4->seaborn) (25.0)\n",
      "Requirement already satisfied: cycler>=0.10 in .\\venv\\lib\\site-packages (from matplotlib!=3.6.1,>=3.4->seaborn) (0.12.1)\n",
      "Requirement already satisfied: pillow>=8 in .\\venv\\lib\\site-packages (from matplotlib!=3.6.1,>=3.4->seaborn) (11.3.0)\n",
      "Requirement already satisfied: contourpy>=1.0.1 in .\\venv\\lib\\site-packages (from matplotlib!=3.6.1,>=3.4->seaborn) (1.3.2)\n",
      "Requirement already satisfied: pytz>=2020.1 in .\\venv\\lib\\site-packages (from pandas>=1.2->seaborn) (2025.2)\n",
      "Requirement already satisfied: tzdata>=2022.7 in .\\venv\\lib\\site-packages (from pandas>=1.2->seaborn) (2025.2)\n",
      "Requirement already satisfied: six>=1.5 in .\\venv\\lib\\site-packages (from python-dateutil>=2.7->matplotlib!=3.6.1,>=3.4->seaborn) (1.17.0)\n"
     ]
    },
    {
     "name": "stderr",
     "output_type": "stream",
     "text": [
      "C:\\Users\\anshs\\AppData\\Local\\Temp\\ipykernel_9548\\2109331924.py:8: FutureWarning: \n",
      "\n",
      "Passing `palette` without assigning `hue` is deprecated and will be removed in v0.14.0. Assign the `x` variable to `hue` and set `legend=False` for the same effect.\n",
      "\n",
      "  sns.countplot(data=df,x='rating',palette='magma')\n"
     ]
    },
    {
     "data": {
      "image/png": "[encoded data removed]",
      "text/plain": [
       "<Figure size 600x400 with 1 Axes>"
      ]
     },
     "metadata": {},
     "output_type": "display_data"
    }
   ],
   "source": [
    "# rating distribution\n",
    "%pip install matplotlib\n",
    "%pip install seaborn\n",
    "import matplotlib.pyplot as plt\n",
    "import seaborn as sns\n",
    "\n",
    "plt.figure(figsize=(6,4))\n",
    "sns.countplot(data=df,x='rating',palette='magma')\n",
    "plt.title('rating distribution')\n",
    "plt.xlabel('rating')\n",
    "plt.ylabel('count')\n",
    "plt.show()"
   ]
  },
  {
   "cell_type": "code",
   "execution_count": 12,
   "id": "a76831f7",
   "metadata": {},
   "outputs": [
    {
     "name": "stderr",
     "output_type": "stream",
     "text": [
      "C:\\Users\\anshs\\AppData\\Local\\Temp\\ipykernel_9548\\948485554.py:6: FutureWarning: \n",
      "\n",
      "Passing `palette` without assigning `hue` is deprecated and will be removed in v0.14.0. Assign the `y` variable to `hue` and set `legend=False` for the same effect.\n",
      "\n",
      "  sns.barplot(x=top_products.values,y=top_products.index,palette='magma')\n"
     ]
    },
    {
     "data": {
      "image/png": "[encoded data removed]",
      "text/plain": [
       "<Figure size 1000x500 with 1 Axes>"
      ]
     },
     "metadata": {},
     "output_type": "display_data"
    }
   ],
   "source": [
    "# most rated products \n",
    "\n",
    "top_products = df['product_id'].value_counts().head(10)\n",
    "\n",
    "plt.figure(figsize=(10,5))\n",
    "sns.barplot(x=top_products.values,y=top_products.index,palette='magma')\n",
    "plt.title('top 10 most rated products')\n",
    "plt.xlabel('number of ratings')\n",
    "plt.ylabel('product id')\n",
    "plt.show()\n"
   ]
  },
  {
   "cell_type": "code",
   "execution_count": 13,
   "id": "cf3a6297",
   "metadata": {},
   "outputs": [
    {
     "data": {
      "image/png": "[encoded data removed]",
      "text/plain": [
       "<Figure size 800x500 with 1 Axes>"
      ]
     },
     "metadata": {},
     "output_type": "display_data"
    }
   ],
   "source": [
    "# rating per user distribution\n",
    "\n",
    "rating_per_user = df.groupby('user_id').size()\n",
    "\n",
    "plt.figure(figsize=(8,5))\n",
    "sns.histplot(rating_per_user, bins=50, log_scale=(False, False), color='skyblue')\n",
    "plt.title('Number of Ratings per User')\n",
    "plt.xlabel('Number of Ratings')\n",
    "plt.ylabel('Number of Users')\n",
    "plt.show()"
   ]
  },
  {
   "cell_type": "code",
   "execution_count": 14,
   "id": "7c090181",
   "metadata": {},
   "outputs": [
    {
     "name": "stdout",
     "output_type": "stream",
     "text": [
      "filtered dataset shape: (11309, 4)\n",
      "unique users 4080\n",
      "unique products 962\n"
     ]
    }
   ],
   "source": [
    "# data filtering \n",
    "# removing the users who rated less than 3 products \n",
    "# and removing the products with less than rating of 5 \n",
    "\n",
    "user_counts = df['user_id'].value_counts()\n",
    "df=df[df['user_id'].isin(user_counts[user_counts>=3].index)]\n",
    "\n",
    "\n",
    "product_counts = df['product_id'].value_counts()\n",
    "df = df[df['product_id'].isin(product_counts[product_counts>=5].index)]\n",
    "\n",
    "print(\"filtered dataset shape:\",df.shape)\n",
    "print(\"unique users\",df['user_id'].nunique())\n",
    "print(\"unique products\",df['product_id'].nunique())"
   ]
  },
  {
   "cell_type": "code",
   "execution_count": 15,
   "id": "8a531174",
   "metadata": {},
   "outputs": [
    {
     "name": "stdout",
     "output_type": "stream",
     "text": [
      "     product_id  avg_rating  rating_count\n",
      "202  B00004SB92    4.430303           165\n",
      "371  B00004ZCJE    4.275000           160\n",
      "457  B00005ARK3    3.935185           108\n",
      "907  B00006HYKM    3.945946            74\n",
      "836  B00006B7DA    4.246377            69\n",
      "516  B00005LEN4    4.764706            68\n",
      "422  B000056SSM    3.558824            68\n",
      "766  B000067RT6    4.843750            64\n",
      "619  B00005T3G0    4.730159            63\n",
      "229  B00004T8R2    4.193548            62\n"
     ]
    }
   ],
   "source": [
    "# popularity based recommendation \n",
    "\n",
    "product_stats= df.groupby('product_id').agg({'rating':['mean','count']}).reset_index()\n",
    "\n",
    "# renaming the columns \n",
    "product_stats.columns = ['product_id','avg_rating','rating_count']\n",
    "\n",
    "top_n = product_stats.sort_values(by='rating_count',ascending=False).head(10)\n",
    "\n",
    "print(top_n)"
   ]
  },
  {
   "cell_type": "code",
   "execution_count": 16,
   "id": "73f20911",
   "metadata": {},
   "outputs": [
    {
     "name": "stderr",
     "output_type": "stream",
     "text": [
      "C:\\Users\\anshs\\AppData\\Local\\Temp\\ipykernel_9548\\3066311573.py:2: FutureWarning: \n",
      "\n",
      "Passing `palette` without assigning `hue` is deprecated and will be removed in v0.14.0. Assign the `y` variable to `hue` and set `legend=False` for the same effect.\n",
      "\n",
      "  sns.barplot(x='rating_count', y='product_id', data=top_n, palette='coolwarm')\n"
     ]
    },
    {
     "data": {
      "image/png": "[encoded data removed]",
      "text/plain": [
       "<Figure size 1000x600 with 1 Axes>"
      ]
     },
     "metadata": {},
     "output_type": "display_data"
    }
   ],
   "source": [
    "\n",
    "plt.figure(figsize=(10,6))\n",
    "sns.barplot(x='rating_count', y='product_id', data=top_n, palette='coolwarm')\n",
    "plt.title('Top 10 Most Popular Products (by Rating Count)')\n",
    "plt.xlabel('Number of Ratings')\n",
    "plt.ylabel('Product ID')\n",
    "plt.show()\n"
   ]
  },
  {
   "cell_type": "code",
   "execution_count": 17,
   "id": "73f24ec4",
   "metadata": {},
   "outputs": [
    {
     "name": "stdout",
     "output_type": "stream",
     "text": [
      "1.24.4\n"
     ]
    }
   ],
   "source": [
    "import numpy as np\n",
    "print(np.__version__)  # should print 1.24.4\n"
   ]
  },
  {
   "cell_type": "code",
   "execution_count": 18,
   "id": "97162cbc",
   "metadata": {},
   "outputs": [],
   "source": [
    "from surprise import Dataset,Reader,KNNBasic\n",
    "from surprise.model_selection import train_test_split\n",
    "from surprise import accuracy\n"
   ]
  },
  {
   "cell_type": "code",
   "execution_count": 19,
   "id": "6bcf8823",
   "metadata": {},
   "outputs": [
    {
     "name": "stdout",
     "output_type": "stream",
     "text": [
      "Filtered data shape: (6, 4)\n"
     ]
    }
   ],
   "source": [
    "# Filter users with at least 50 ratings and products with at least 50 ratings\n",
    "filtered_df = df[df['user_id'].isin(\n",
    "    df['user_id'].value_counts()[df['user_id'].value_counts() >= 50].index)]\n",
    "filtered_df = filtered_df[filtered_df['product_id'].isin(\n",
    "    df['product_id'].value_counts()[df['product_id'].value_counts() >= 50].index)]\n",
    "\n",
    "print(f\"Filtered data shape: {filtered_df.shape}\")\n"
   ]
  },
  {
   "cell_type": "code",
   "execution_count": 20,
   "id": "06298acd",
   "metadata": {},
   "outputs": [
    {
     "name": "stdout",
     "output_type": "stream",
     "text": [
      "Computing the cosine similarity matrix...\n",
      "Done computing similarity matrix.\n",
      "Model Evaluation (RMSE):\n",
      "RMSE: 1.5811\n"
     ]
    },
    {
     "data": {
      "text/plain": [
       "1.5811388300841898"
      ]
     },
     "execution_count": 20,
     "metadata": {},
     "output_type": "execute_result"
    }
   ],
   "source": [
    "# Create reader with rating scale\n",
    "reader = Reader(rating_scale=(1, 5))\n",
    "\n",
    "# Load data into Surprise\n",
    "data = Dataset.load_from_df(filtered_df[['user_id', 'product_id', 'rating']], reader)\n",
    "\n",
    "# Split into training and test sets\n",
    "trainset, testset = train_test_split(data, test_size=0.2, random_state=42)\n",
    "\n",
    "# Define similarity options for User-based Collaborative Filtering\n",
    "sim_options = {\n",
    "    'name': 'cosine',\n",
    "    'user_based': True   # Set to False for Item-based\n",
    "}\n",
    "\n",
    "# Train the KNN model\n",
    "model = KNNBasic(sim_options=sim_options)\n",
    "model.fit(trainset)\n",
    "\n",
    "# Predict on the testset\n",
    "predictions = model.test(testset)\n",
    "\n",
    "# Evaluate with RMSE\n",
    "print(\"Model Evaluation (RMSE):\")\n",
    "accuracy.rmse(predictions)\n"
   ]
  },
  {
   "cell_type": "code",
   "execution_count": 21,
   "id": "15ea04b9",
   "metadata": {},
   "outputs": [
    {
     "name": "stdout",
     "output_type": "stream",
     "text": [
      "\n",
      "Top 10 recommendations for User A231WM2Z2JL0U3:\n",
      "1. Product ID: B00005ARK3, Predicted Rating: 5.00\n",
      "2. Product ID: B000056SSM, Predicted Rating: 5.00\n"
     ]
    }
   ],
   "source": [
    "# Recommend Top-N Products to a User\n",
    "\n",
    "from collections import defaultdict\n",
    "\n",
    "def get_top_n_recommendations(predictions, n=10):\n",
    "    # Map predictions to each user\n",
    "    top_n = defaultdict(list)\n",
    "    for uid, iid, true_r, est, _ in predictions:\n",
    "        top_n[uid].append((iid, est))\n",
    "    \n",
    "    # Sort and get top-n for each user\n",
    "    for uid, user_ratings in top_n.items():\n",
    "        user_ratings.sort(key=lambda x: x[1], reverse=True)\n",
    "        top_n[uid] = user_ratings[:n]\n",
    "    \n",
    "    return top_n\n",
    "\n",
    "# Get top 10 recommendations for each user\n",
    "top_n = get_top_n_recommendations(predictions, n=10)\n",
    "\n",
    "# Example: Display for a specific user\n",
    "sample_user_id = list(top_n.keys())[0]\n",
    "print(f\"\\nTop 10 recommendations for User {sample_user_id}:\")\n",
    "for i, (prod_id, rating) in enumerate(top_n[sample_user_id], 1):\n",
    "    print(f\"{i}. Product ID: {prod_id}, Predicted Rating: {rating:.2f}\")\n"
   ]
  },
  {
   "cell_type": "code",
   "execution_count": 22,
   "id": "6f569635",
   "metadata": {},
   "outputs": [],
   "source": [
    "# 1. Popularity-Based Recommendations\n",
    "def get_popular_products(df, n=10):\n",
    "    product_stats = df.groupby('product_id').agg({\n",
    "        'rating': ['mean', 'count']\n",
    "    }).reset_index()\n",
    "    \n",
    "    product_stats.columns = ['product_id', 'avg_rating', 'rating_count']\n",
    "    top_n = product_stats.sort_values(by='rating_count', ascending=False).head(n)\n",
    "    \n",
    "    return top_n[['product_id', 'avg_rating', 'rating_count']]\n",
    "\n",
    "# 2. Collaborative Filtering Recommendations\n",
    "from collections import defaultdict\n",
    "\n",
    "def get_top_n_recommendations(predictions, n=10):\n",
    "    top_n = defaultdict(list)\n",
    "    for uid, iid, true_r, est, _ in predictions:\n",
    "        top_n[uid].append((iid, est))\n",
    "    \n",
    "    for uid, user_ratings in top_n.items():\n",
    "        user_ratings.sort(key=lambda x: x[1], reverse=True)\n",
    "        top_n[uid] = user_ratings[:n]\n",
    "    \n",
    "    return top_n\n",
    "\n",
    "# 3. Unified Recommender Function\n",
    "def recommend_products(user_id, trained_model, trainset, full_predictions, original_df, n=10):\n",
    "    if user_id in trainset._raw2inner_id_users:\n",
    "        print(f\" Personalized recommendations for User ID: {user_id}\")\n",
    "        top_n = get_top_n_recommendations(full_predictions, n=n)\n",
    "        if user_id in top_n:\n",
    "            for i, (iid, rating) in enumerate(top_n[user_id], 1):\n",
    "                print(f\"{i}. Product ID: {iid} | Predicted Rating: {rating:.2f}\")\n",
    "        else:\n",
    "            print(\"User has no recommendations based on collaborative filtering.\")\n",
    "    else:\n",
    "        print(f\"New user detected! Showing Popular Products\")\n",
    "        top_popular = get_popular_products(original_df, n=n)\n",
    "        for i, row in top_popular.iterrows():\n",
    "            print(f\"{i+1}. Product ID: {row['product_id']} | Avg Rating: {row['avg_rating']:.2f} | Rating Count: {row['rating_count']}\")\n"
   ]
  },
  {
   "cell_type": "code",
   "execution_count": 23,
   "id": "57a45f39",
   "metadata": {},
   "outputs": [
    {
     "name": "stdout",
     "output_type": "stream",
     "text": [
      " Personalized recommendations for User ID: A231WM2Z2JL0U3\n",
      "1. Product ID: B00005ARK3 | Predicted Rating: 5.00\n",
      "2. Product ID: B000056SSM | Predicted Rating: 5.00\n",
      "New user detected! Showing Popular Products\n",
      "1. Product ID: B00003G1RG | Avg Rating: 5.00 | Rating Count: 1\n",
      "2. Product ID: B00004SB92 | Avg Rating: 5.00 | Rating Count: 1\n",
      "3. Product ID: B00004VX3T | Avg Rating: 5.00 | Rating Count: 1\n",
      "4. Product ID: B000056SSM | Avg Rating: 3.00 | Rating Count: 1\n",
      "5. Product ID: B00005ARK3 | Avg Rating: 4.00 | Rating Count: 1\n"
     ]
    }
   ],
   "source": [
    "# sample\n",
    "\n",
    "# Choose a user\n",
    "existing_user = list(trainset._raw2inner_id_users.keys())[0]\n",
    "new_user = \"new_user_123\"\n",
    "\n",
    "# Recommend for existing user\n",
    "recommend_products(existing_user, model, trainset, predictions, filtered_df, n=5)\n",
    "\n",
    "# Recommend for new user\n",
    "recommend_products(new_user, model, trainset, predictions, filtered_df, n=5)\n"
   ]
  },
  {
   "cell_type": "code",
   "execution_count": 24,
   "id": "b1e87e9c",
   "metadata": {},
   "outputs": [],
   "source": [
    "filtered_df.to_csv(\"filtered_df.csv\", index=False)\n"
   ]
  },
  {
   "cell_type": "code",
   "execution_count": 25,
   "id": "709546bf",
   "metadata": {},
   "outputs": [
    {
     "name": "stdout",
     "output_type": "stream",
     "text": [
      "Popular Products for New Users:\n",
      "     product_id  mean_rating  rating_count\n",
      "202  B00004SB92     4.430303           165\n",
      "371  B00004ZCJE     4.275000           160\n",
      "457  B00005ARK3     3.935185           108\n",
      "907  B00006HYKM     3.945946            74\n",
      "836  B00006B7DA     4.246377            69\n"
     ]
    }
   ],
   "source": [
    "\n",
    "def get_popular_products(df, top_n=5):\n",
    "    product_stats = df.groupby('product_id').agg({\n",
    "        'rating': ['mean', 'count']\n",
    "    }).reset_index()\n",
    "    \n",
    "    product_stats.columns = ['product_id', 'mean_rating', 'rating_count']\n",
    "    \n",
    "    # Rank products by rating count (popularity) and then mean rating\n",
    "    popular_products = product_stats.sort_values(\n",
    "        by=['rating_count', 'mean_rating'], \n",
    "        ascending=False\n",
    "    ).head(top_n)\n",
    "    \n",
    "    return popular_products[['product_id', 'mean_rating', 'rating_count']]\n",
    "\n",
    "# Example: Popular products for new user\n",
    "print(\"Popular Products for New Users:\")\n",
    "print(get_popular_products(df, top_n=5))\n"
   ]
  },
  {
   "cell_type": "code",
   "execution_count": 26,
   "id": "dad61940",
   "metadata": {},
   "outputs": [
    {
     "name": "stdout",
     "output_type": "stream",
     "text": [
      "Computing the cosine similarity matrix...\n",
      "Done computing similarity matrix.\n",
      "\n",
      "Similar Products to B00004SB92:\n",
      "  similar_product_id\n",
      "0         0972683275\n",
      "1         1400532655\n",
      "2         140053271X\n",
      "3         1400599997\n",
      "4         B000001OMA\n"
     ]
    }
   ],
   "source": [
    "\n",
    "from surprise import KNNBasic, Dataset, Reader\n",
    "import pandas as pd\n",
    "\n",
    "# Prepare data for Surprise\n",
    "reader = Reader(rating_scale=(1, 5))\n",
    "data = Dataset.load_from_df(df[['user_id', 'product_id', 'rating']], reader)\n",
    "\n",
    "trainset = data.build_full_trainset()\n",
    "\n",
    "# Item-based collaborative filtering\n",
    "sim_options = {\n",
    "    'name': 'cosine',\n",
    "    'user_based': False  # Item-based\n",
    "}\n",
    "algo_item = KNNBasic(sim_options=sim_options)\n",
    "algo_item.fit(trainset)\n",
    "\n",
    "def get_similar_products(product_id, top_n=5):\n",
    "    try:\n",
    "        inner_id = algo_item.trainset.to_inner_iid(product_id)\n",
    "    except ValueError:\n",
    "        # Cold start for new product → fallback to popular products\n",
    "        print(f\"Product {product_id} not found. Showing popular products instead.\")\n",
    "        return get_popular_products(df, top_n)\n",
    "    \n",
    "    neighbors = algo_item.get_neighbors(inner_id, k=top_n)\n",
    "    neighbor_products = [algo_item.trainset.to_raw_iid(inner_id) for inner_id in neighbors]\n",
    "    \n",
    "    return pd.DataFrame({'similar_product_id': neighbor_products})\n",
    "\n",
    "# Example: Similar products for a given product ID\n",
    "print(\"\\nSimilar Products to B00004SB92:\")\n",
    "print(get_similar_products('B00004SB92', top_n=5))\n"
   ]
  },
  {
   "cell_type": "code",
   "execution_count": 27,
   "id": "0bf037dc",
   "metadata": {},
   "outputs": [
    {
     "name": "stdout",
     "output_type": "stream",
     "text": [
      "\n",
      "--- New User Example ---\n",
      "User random_new_user not found. Showing popular products.\n",
      "     product_id  mean_rating  rating_count\n",
      "202  B00004SB92     4.430303           165\n",
      "371  B00004ZCJE     4.275000           160\n",
      "457  B00005ARK3     3.935185           108\n",
      "907  B00006HYKM     3.945946            74\n",
      "836  B00006B7DA     4.246377            69\n",
      "\n",
      "--- New Product Example ---\n",
      "Product random_new_product not found. Showing popular products instead.\n",
      "     product_id  mean_rating  rating_count\n",
      "202  B00004SB92     4.430303           165\n",
      "371  B00004ZCJE     4.275000           160\n",
      "457  B00005ARK3     3.935185           108\n",
      "907  B00006HYKM     3.945946            74\n",
      "836  B00006B7DA     4.246377            69\n"
     ]
    }
   ],
   "source": [
    "def recommend(user_id=None, product_id=None, top_n=5):\n",
    "    if user_id:\n",
    "        if user_id not in df['user_id'].unique():\n",
    "            print(f\"User {user_id} not found. Showing popular products.\")\n",
    "            return get_popular_products(df, top_n)\n",
    "        else:\n",
    "            # Personalized recommendation logic (your existing CF code)\n",
    "            print(f\"User {user_id} found. Generating personalized recommendations...\")\n",
    "            # Here you can call your existing surprise prediction code\n",
    "            return None\n",
    "    \n",
    "    if product_id:\n",
    "        return get_similar_products(product_id, top_n)\n",
    "\n",
    "# Example calls\n",
    "print(\"\\n--- New User Example ---\")\n",
    "print(recommend(user_id=\"random_new_user\", top_n=5))\n",
    "\n",
    "print(\"\\n--- New Product Example ---\")\n",
    "print(recommend(product_id=\"random_new_product\", top_n=5))"
   ]
  },
  {
   "cell_type": "code",
   "execution_count": 28,
   "id": "194b60a1",
   "metadata": {},
   "outputs": [
    {
     "name": "stdout",
     "output_type": "stream",
     "text": [
      "Model saved successfully!\n"
     ]
    }
   ],
   "source": [
    "import pickle\n",
    "\n",
    "# Save trained model\n",
    "with open(\"item_based_cf_model.pkl\", \"wb\") as f:\n",
    "    pickle.dump(algo_item, f)\n",
    "\n",
    "print(\"Model saved successfully!\")\n"
   ]
  }
 ],
 "metadata": {
  "kernelspec": {
   "display_name": "venv",
   "language": "python",
   "name": "python3"
  },
  "language_info": {
   "codemirror_mode": {
    "name": "ipython",
    "version": 3
   },
   "file_extension": ".py",
   "mimetype": "text/x-python",
   "name": "python",
   "nbconvert_exporter": "python",
   "pygments_lexer": "ipython3",
   "version": "3.10.10"
  }
 },
 "nbformat": 4,
 "nbformat_minor": 5
}
